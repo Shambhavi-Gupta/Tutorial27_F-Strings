{
  "nbformat": 4,
  "nbformat_minor": 0,
  "metadata": {
    "colab": {
      "name": "Tutorial27_F-Strings.ipynb",
      "provenance": [],
      "authorship_tag": "ABX9TyN5Ezf0RniyTYvmAXDECdrw",
      "include_colab_link": true
    },
    "kernelspec": {
      "name": "python3",
      "display_name": "Python 3"
    }
  },
  "cells": [
    {
      "cell_type": "markdown",
      "metadata": {
        "id": "view-in-github",
        "colab_type": "text"
      },
      "source": [
        "<a href=\"https://colab.research.google.com/github/Shambhavi-Gupta/Tutorial27_F-Strings/blob/main/Tutorial27_F_Strings.ipynb\" target=\"_parent\"><img src=\"https://colab.research.google.com/assets/colab-badge.svg\" alt=\"Open In Colab\"/></a>"
      ]
    },
    {
      "cell_type": "code",
      "metadata": {
        "id": "XxJ2Bxppybvs"
      },
      "source": [
        "my = \"Shambhavi\"\r\n",
        "a = \"My name is %s\"%my\r\n",
        "#print(a)\r\n",
        "\r\n",
        "my = \"Shambhavi\"\r\n",
        "s = 10\r\n",
        "s1 = \"My name is {} {}\"\r\n",
        "s2 = s1.format(my , s)\r\n",
        "#print(s2)\r\n",
        "\r\n",
        "#F string\r\n",
        "import math\r\n",
        "my = \"Shambhavi\"\r\n",
        "s = 10\r\n",
        "s1 = f\"My name is {my} {s} {math.cos(60)} \"\r\n",
        "print(s1)"
      ],
      "execution_count": null,
      "outputs": []
    }
  ]
}